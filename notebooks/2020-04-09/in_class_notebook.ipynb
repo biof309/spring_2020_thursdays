{
 "cells": [
  {
   "cell_type": "markdown",
   "metadata": {},
   "source": [
    "# Packaging with python"
   ]
  },
  {
   "cell_type": "markdown",
   "metadata": {},
   "source": [
    "This lesson draws heavily on the [python guide to packaging](https://packaging.python.org/tutorials/packaging-projects/).\n",
    "\n"
   ]
  },
  {
   "cell_type": "markdown",
   "metadata": {},
   "source": [
    "#### A very basic setup"
   ]
  },
  {
   "cell_type": "markdown",
   "metadata": {},
   "source": [
    "We will start by creating a new directory for our work on a package:"
   ]
  },
  {
   "cell_type": "code",
   "execution_count": 1,
   "metadata": {},
   "outputs": [
    {
     "data": {
      "text/plain": [
       "'/saved/faes_teaching/spring_2020_repo/notebooks/2020-04-09'"
      ]
     },
     "execution_count": 1,
     "metadata": {},
     "output_type": "execute_result"
    }
   ],
   "source": [
    "%pwd"
   ]
  },
  {
   "cell_type": "code",
   "execution_count": 2,
   "metadata": {},
   "outputs": [
    {
     "name": "stdout",
     "output_type": "stream",
     "text": [
      "Starting in /saved/faes_teaching/spring_2020_repo/notebooks/2020-04-09\n",
      "Creating /saved/faes_teaching/spring_2020_repo/notebooks/2020-04-09/packaging_demo_in_class...\n",
      "The current working directory is now /saved/faes_teaching/spring_2020_repo/notebooks/2020-04-09/packaging_demo_in_class\n"
     ]
    }
   ],
   "source": [
    "from class_setup import create_package_dir\n",
    "\n",
    "create_package_dir(\"packaging_demo_in_class\")"
   ]
  },
  {
   "cell_type": "code",
   "execution_count": 3,
   "metadata": {},
   "outputs": [
    {
     "data": {
      "text/plain": [
       "'/saved/faes_teaching/spring_2020_repo/notebooks/2020-04-09/packaging_demo_in_class'"
      ]
     },
     "execution_count": 3,
     "metadata": {},
     "output_type": "execute_result"
    }
   ],
   "source": [
    "%pwd"
   ]
  },
  {
   "cell_type": "markdown",
   "metadata": {},
   "source": [
    "Now we will create a directory structure for our package:"
   ]
  },
  {
   "cell_type": "code",
   "execution_count": 4,
   "metadata": {},
   "outputs": [],
   "source": [
    "from pathlib import Path\n",
    "package_name = \"example_pkg\"\n",
    "Path('tests').mkdir()\n",
    "python_dir = Path(package_name)\n",
    "python_dir.mkdir()\n",
    "(python_dir / '__init__.py').touch()\n",
    "Path('setup.py').touch()\n",
    "Path('LICENSE').touch()\n",
    "Path('README.md').touch()"
   ]
  },
  {
   "cell_type": "markdown",
   "metadata": {},
   "source": [
    "#### Adding metadata and installation details"
   ]
  },
  {
   "cell_type": "markdown",
   "metadata": {},
   "source": [
    "We now have many of the files that should be in a basic package. Let's start to generate some of the details.\n",
    "\n",
    "You can edit the following as you see fit. This setup.py file does the work for describing how your package is installed and telling users some of the details about package:"
   ]
  },
  {
   "cell_type": "code",
   "execution_count": 5,
   "metadata": {},
   "outputs": [
    {
     "name": "stdout",
     "output_type": "stream",
     "text": [
      "Overwriting setup.py\n"
     ]
    }
   ],
   "source": [
    "%%writefile setup.py\n",
    "import setuptools\n",
    "\n",
    "with open(\"README.md\", \"r\") as fh:\n",
    "    long_description = fh.read()\n",
    "\n",
    "setuptools.setup(\n",
    "    name=\"example_pkg\", \n",
    "    version=\"0.0.1\",\n",
    "    author=\"Example Author\",\n",
    "    author_email=\"author@example.com\",\n",
    "    description=\"A small example package\",\n",
    "    long_description=long_description,\n",
    "    long_description_content_type=\"text/markdown\",\n",
    "    url=\"https://github.com/pypa/packaging_demo\",\n",
    "    packages=setuptools.find_packages(),\n",
    "    classifiers=[\n",
    "        \"Programming Language :: Python :: 3\",\n",
    "        \"License :: OSI Approved :: MIT License\",\n",
    "        \"Operating System :: OS Independent\",\n",
    "    ],\n",
    "    python_requires='>=3.6',\n",
    "\n",
    ")"
   ]
  },
  {
   "cell_type": "markdown",
   "metadata": {},
   "source": [
    "#### Describing our project to potential users"
   ]
  },
  {
   "cell_type": "markdown",
   "metadata": {},
   "source": [
    "\n",
    "We should also always have a readme file to help our users to orient themselves. Since we would often use github to distribute our code, markdown is a sensible file format for this:"
   ]
  },
  {
   "cell_type": "code",
   "execution_count": 6,
   "metadata": {},
   "outputs": [
    {
     "name": "stdout",
     "output_type": "stream",
     "text": [
      "Overwriting README.md\n"
     ]
    }
   ],
   "source": [
    "%%writefile README.md\n",
    "# Example Package\n",
    "\n",
    "This is a simple example package. You can use\n",
    "[Github-flavored Markdown](https://guides.github.com/features/mastering-markdown/)\n",
    "to write your content."
   ]
  },
  {
   "cell_type": "markdown",
   "metadata": {},
   "source": [
    "#### Letting others use our code"
   ]
  },
  {
   "cell_type": "markdown",
   "metadata": {},
   "source": [
    "You should always [choose a licence](https://choosealicense.com) to include with your code. It helps others to determine how they can use your code. Without a licence, most people simply cannot use your code based on their organizations regulations."
   ]
  },
  {
   "cell_type": "code",
   "execution_count": 7,
   "metadata": {},
   "outputs": [
    {
     "name": "stdout",
     "output_type": "stream",
     "text": [
      "Overwriting LICENSE\n"
     ]
    }
   ],
   "source": [
    "%%writefile LICENSE\n",
    "Copyright (c) 2018 The Python Packaging Authority\n",
    "\n",
    "Permission is hereby granted, free of charge, to any person obtaining a copy\n",
    "of this software and associated documentation files (the \"Software\"), to deal\n",
    "in the Software without restriction, including without limitation the rights\n",
    "to use, copy, modify, merge, publish, distribute, sublicense, and/or sell\n",
    "copies of the Software, and to permit persons to whom the Software is\n",
    "furnished to do so, subject to the following conditions:\n",
    "\n",
    "The above copyright notice and this permission notice shall be included in all\n",
    "copies or substantial portions of the Software.\n",
    "\n",
    "THE SOFTWARE IS PROVIDED \"AS IS\", WITHOUT WARRANTY OF ANY KIND, EXPRESS OR\n",
    "IMPLIED, INCLUDING BUT NOT LIMITED TO THE WARRANTIES OF MERCHANTABILITY,\n",
    "FITNESS FOR A PARTICULAR PURPOSE AND NONINFRINGEMENT. IN NO EVENT SHALL THE\n",
    "AUTHORS OR COPYRIGHT HOLDERS BE LIABLE FOR ANY CLAIM, DAMAGES OR OTHER\n",
    "LIABILITY, WHETHER IN AN ACTION OF CONTRACT, TORT OR OTHERWISE, ARISING FROM,\n",
    "OUT OF OR IN CONNECTION WITH THE SOFTWARE OR THE USE OR OTHER DEALINGS IN THE\n",
    "SOFTWARE."
   ]
  },
  {
   "cell_type": "markdown",
   "metadata": {},
   "source": [
    "#### Add code to package up"
   ]
  },
  {
   "cell_type": "code",
   "execution_count": 8,
   "metadata": {},
   "outputs": [
    {
     "name": "stdout",
     "output_type": "stream",
     "text": [
      "Writing example_pkg/calc.py\n"
     ]
    }
   ],
   "source": [
    "%%writefile example_pkg/calc.py\n",
    "def add(x, y):\n",
    "    \"\"\"Add Function\"\"\"\n",
    "    return x + y\n",
    "\n",
    "\n",
    "def subtract(x, y):\n",
    "    \"\"\"Subtract Function\"\"\"\n",
    "    return x - y\n",
    "\n",
    "\n",
    "def multiply(x, y):\n",
    "    \"\"\"Multiply Function\"\"\"\n",
    "    return x * y\n",
    "\n",
    "\n",
    "def divide(x, y):\n",
    "    \"\"\"Divide Function\"\"\"\n",
    "    if y == 0:\n",
    "        raise ValueError('Can not divide by zero!')\n",
    "    return x / y    \n",
    "\n",
    "# see http://katyhuff.github.io/python-testing/03-exceptions/\n",
    "def mean(num_list):\n",
    "    try:\n",
    "        return sum(num_list)/len(num_list)\n",
    "    except ZeroDivisionError :\n",
    "        return 0\n",
    "    except TypeError as detail :\n",
    "        msg = \"The algebraic mean of an non-numerical list is undefined.\\\n",
    "               Please provide a list of numbers.\"\n",
    "        raise TypeError(detail.__str__() + \"\\n\" +  msg)\n"
   ]
  },
  {
   "cell_type": "code",
   "execution_count": 9,
   "metadata": {},
   "outputs": [
    {
     "name": "stdout",
     "output_type": "stream",
     "text": [
      "Writing example_pkg/fizzbuzz.py\n"
     ]
    }
   ],
   "source": [
    "%%writefile example_pkg/fizzbuzz.py\n",
    "def fizzbuzz(n,fizz=3,buzz=5):\n",
    "    output = []\n",
    "    for number in range(n):\n",
    "        if number % fizz == 0 and number % 5 == 0:\n",
    "            output.append((number,\"fizzbuzz\"))\n",
    "            continue\n",
    "        elif number % 3 == 0:\n",
    "            output.append((number,\"fizz\"))\n",
    "            continue\n",
    "        elif number % 5 == 0:\n",
    "            output.append((number,\"buzz\"))\n",
    "            continue\n",
    "    return output\n",
    "\n",
    "def main():\n",
    "    print(fizzbuzz(10))\n",
    "\n",
    "\n",
    "if __name__ == '__main__':\n",
    "    main()"
   ]
  },
  {
   "cell_type": "markdown",
   "metadata": {},
   "source": [
    "And we are done! We now have all of the files to install our project, and a little code to see what happens. There are 3 ways of installing this code:\n",
    "    \n",
    "1. Upload our code to PyPA. We won't do this. It's not hard but you will really want to share your code before you want to do that.\n",
    "2. Install directly from github. As our package is now we are able to upload it to github and then have other users install our project directly from there!\n",
    "3. Install it from our local version. This is the easiest for now so lets do that. We should use the flag for development (-e) so that the python interpreter will use our local files rather than copying them and we can make changes to the installed package in place."
   ]
  },
  {
   "cell_type": "code",
   "execution_count": 6,
   "metadata": {},
   "outputs": [
    {
     "name": "stdout",
     "output_type": "stream",
     "text": [
      "/saved/faes_teaching/spring_2020_repo/notebooks/2020-04-09/packaging_demo_in_class\n",
      "Obtaining file:///saved/faes_teaching/spring_2020_repo/notebooks/2020-04-09/packaging_demo_in_class\n",
      "Installing collected packages: example-pkg\n",
      "  Found existing installation: example-pkg 0.0.1\n",
      "    Uninstalling example-pkg-0.0.1:\n",
      "      Successfully uninstalled example-pkg-0.0.1\n",
      "  Running setup.py develop for example-pkg\n",
      "Successfully installed example-pkg\n"
     ]
    }
   ],
   "source": [
    "!pip install -e ."
   ]
  },
  {
   "cell_type": "markdown",
   "metadata": {},
   "source": [
    "# Revisiting tests"
   ]
  },
  {
   "cell_type": "markdown",
   "metadata": {},
   "source": [
    "At this point we will change our working directory back out of the package directory. Ipython picks up the local directory before an installed package and any errors from executing the wrong version of our code becomes confusing (though doesn't happen when our package has been installed using development mode)"
   ]
  },
  {
   "cell_type": "code",
   "execution_count": null,
   "metadata": {},
   "outputs": [],
   "source": [
    "%cd .."
   ]
  },
  {
   "cell_type": "markdown",
   "metadata": {},
   "source": [
    "Let's once again try to run or tests from last week. We'll copy the files from last week and then see if we can run them. We can modify the package from which the code is imported (last week we called it mymath, this week we have called it example_pkg)."
   ]
  },
  {
   "cell_type": "code",
   "execution_count": 3,
   "metadata": {},
   "outputs": [
    {
     "data": {
      "text/plain": [
       "'/saved/faes_teaching/spring_2020_repo/notebooks/2020-04-09'"
      ]
     },
     "execution_count": 3,
     "metadata": {},
     "output_type": "execute_result"
    }
   ],
   "source": [
    "pwd"
   ]
  },
  {
   "cell_type": "code",
   "execution_count": 6,
   "metadata": {},
   "outputs": [
    {
     "name": "stdout",
     "output_type": "stream",
     "text": [
      "Old file ../2020-04-02/tests/test_computation.py\n",
      "packaging_demo_in_class/tests/test_computation.py\n",
      "Old file ../2020-04-02/tests/test_mean.py\n",
      "packaging_demo_in_class/tests/test_mean.py\n"
     ]
    }
   ],
   "source": [
    "from pathlib import Path\n",
    "for f in Path('../2020-04-02/tests').glob('*.py'):\n",
    "    print(f\"Old file {f}\")\n",
    "    new_file = Path(\"packaging_demo_in_class/tests\") / f.name\n",
    "    print(new_file)\n",
    "    text = f.read_text()\n",
    "    fixed_text = text.replace(\"mymath\",\"example_pkg\")\n",
    "    new_file.write_text(fixed_text)"
   ]
  },
  {
   "cell_type": "code",
   "execution_count": 26,
   "metadata": {},
   "outputs": [
    {
     "data": {
      "text/plain": [
       "PosixPath('/saved/faes_teaching/spring_2020_repo/notebooks/2020-04-09/packaging_demo_in_class/tests/test_mean.py')"
      ]
     },
     "execution_count": 26,
     "metadata": {},
     "output_type": "execute_result"
    }
   ],
   "source": [
    "new_file.absolute()"
   ]
  },
  {
   "cell_type": "code",
   "execution_count": 13,
   "metadata": {},
   "outputs": [
    {
     "name": "stdout",
     "output_type": "stream",
     "text": [
      "\u001b[1m====================================================== test session starts ======================================================\u001b[0m\n",
      "platform darwin -- Python 3.7.4, pytest-5.3.5, py-1.8.0, pluggy-0.13.0\n",
      "rootdir: /saved/faes_teaching/spring_2020_repo/notebooks/2020-04-09/packaging_demo_in_class\n",
      "plugins: arraydiff-0.3, remotedata-0.3.2, doctestplus-0.4.0, openfiles-0.4.0\n",
      "collected 6 items                                                                                                               \u001b[0m\n",
      "\n",
      "packaging_demo_in_class/tests/test_computation.py \u001b[32m.\u001b[0m\u001b[32m                                                                       [ 16%]\u001b[0m\n",
      "packaging_demo_in_class/tests/test_mean.py \u001b[32m.\u001b[0m\u001b[32m.\u001b[0m\u001b[32m.\u001b[0m\u001b[32m.\u001b[0m\u001b[31mF\u001b[0m\u001b[31m                                                                          [100%]\u001b[0m\n",
      "\n",
      "=========================================================== FAILURES ============================================================\n",
      "\u001b[31m\u001b[1m_________________________________________________________ test_complex __________________________________________________________\u001b[0m\n",
      "\n",
      "\u001b[1m    def test_complex():\u001b[0m\n",
      "\u001b[1m        # given that complex numbers are an unordered field\u001b[0m\n",
      "\u001b[1m        # the arithmetic mean of complex numbers is meaningless\u001b[0m\n",
      "\u001b[1m        num_list = [2 + 3j, 3 + 4j, -32 - 2j]\u001b[0m\n",
      "\u001b[1m        obs = mean(num_list)\u001b[0m\n",
      "\u001b[1m        exp = NotImplemented\u001b[0m\n",
      "\u001b[1m>       assert obs == exp\u001b[0m\n",
      "\u001b[1m\u001b[31mE       assert (-9+1.6666666666666667j) == NotImplemented\u001b[0m\n",
      "\n",
      "\u001b[1m\u001b[31mpackaging_demo_in_class/tests/test_mean.py\u001b[0m:34: AssertionError\n",
      "\u001b[31m================================================== \u001b[31m\u001b[1m1 failed\u001b[0m, \u001b[32m5 passed\u001b[0m\u001b[31m in 1.99s\u001b[0m\u001b[31m ==================================================\u001b[0m\n"
     ]
    }
   ],
   "source": [
    "!pytest ./packaging_demo_in_class/tests/"
   ]
  },
  {
   "cell_type": "code",
   "execution_count": 21,
   "metadata": {},
   "outputs": [
    {
     "data": {
      "text/plain": [
       "'/saved/faes_teaching/spring_2020_repo/notebooks/2020-04-09'"
      ]
     },
     "execution_count": 21,
     "metadata": {},
     "output_type": "execute_result"
    }
   ],
   "source": [
    "%pwd"
   ]
  },
  {
   "cell_type": "code",
   "execution_count": 22,
   "metadata": {},
   "outputs": [
    {
     "name": "stdout",
     "output_type": "stream",
     "text": [
      "Overwriting packaging_demo_in_class/example_pkg/basic_math.py\n"
     ]
    }
   ],
   "source": [
    "%%writefile packaging_demo_in_class/example_pkg/basic_math.py\n",
    "\n",
    "def add(x, y):\n",
    "    \"\"\"Add Function\"\"\"\n",
    "    return x + y\n",
    "\n",
    "\n",
    "def subtract(x, y):\n",
    "    \"\"\"Subtract Function\"\"\"\n",
    "    return x - y\n",
    "\n",
    "\n",
    "def multiply(x, y):\n",
    "    \"\"\"Multiply Function\"\"\"\n",
    "    return x * y\n",
    "\n",
    "\n",
    "def divide(x, y):\n",
    "    \"\"\"Divide Function\"\"\"\n",
    "    if y == 0:\n",
    "        raise ValueError('Can not divide by zero!')\n",
    "    return x / y    \n",
    "\n",
    "# see http://katyhuff.github.io/python-testing/03-exceptions/"
   ]
  },
  {
   "cell_type": "markdown",
   "metadata": {},
   "source": [
    "We will rewrite the function `mean` to include a check for complex numbers:"
   ]
  },
  {
   "cell_type": "code",
   "execution_count": 25,
   "metadata": {},
   "outputs": [
    {
     "name": "stdout",
     "output_type": "stream",
     "text": [
      "Overwriting packaging_demo_in_class/example_pkg/calc.py\n"
     ]
    }
   ],
   "source": [
    "%%writefile packaging_demo_in_class/example_pkg/calc.py\n",
    "def mean(num_list):\n",
    "    try:\n",
    "        for num in num_list:\n",
    "            if isinstance(num,complex):\n",
    "                return NotImplemented\n",
    "        return sum(num_list)/len(num_list)\n",
    "    except ZeroDivisionError :\n",
    "        return 0\n",
    "    except TypeError as detail :\n",
    "        msg = \"The algebraic mean of an non-numerical list is undefined.\\\n",
    "               Please provide a list of numbers.\"\n",
    "        raise TypeError(detail.__str__() + \"\\n\" +  msg)\n"
   ]
  },
  {
   "cell_type": "markdown",
   "metadata": {},
   "source": [
    "At this point we need to change the imports in the test_mean file:"
   ]
  },
  {
   "cell_type": "code",
   "execution_count": 7,
   "metadata": {},
   "outputs": [
    {
     "data": {
      "text/plain": [
       "779"
      ]
     },
     "execution_count": 7,
     "metadata": {},
     "output_type": "execute_result"
    }
   ],
   "source": [
    "altered_imports = \"\"\"\n",
    "from example_pkg.basic_math import *\n",
    "from example_pkg.calc import mean\n",
    "\"\"\"\n",
    "testfile = Path('packaging_demo_in_class/tests/test_mean.py')\n",
    "new_text = testfile.read_text().replace(\"from example_pkg.calc import *\",altered_imports)\n",
    "testfile.write_text(new_text)"
   ]
  },
  {
   "cell_type": "markdown",
   "metadata": {},
   "source": [
    "Now our test should work:"
   ]
  },
  {
   "cell_type": "code",
   "execution_count": 26,
   "metadata": {},
   "outputs": [
    {
     "name": "stdout",
     "output_type": "stream",
     "text": [
      "\u001b[1m====================================================== test session starts ======================================================\u001b[0m\n",
      "platform darwin -- Python 3.7.4, pytest-5.3.5, py-1.8.0, pluggy-0.13.0\n",
      "rootdir: /saved/faes_teaching/spring_2020_repo/notebooks/2020-04-09\n",
      "plugins: arraydiff-0.3, remotedata-0.3.2, doctestplus-0.4.0, openfiles-0.4.0\n",
      "collected 6 items                                                                                                               \u001b[0m\n",
      "\n",
      "packaging_demo_in_class/tests/test_computation.py \u001b[32m.\u001b[0m\u001b[32m                                                                       [ 16%]\u001b[0m\n",
      "packaging_demo_in_class/tests/test_mean.py \u001b[32m.\u001b[0m\u001b[32m.\u001b[0m\u001b[32m.\u001b[0m\u001b[32m.\u001b[0m\u001b[32m.\u001b[0m\u001b[32m                                                                          [100%]\u001b[0m\n",
      "\n",
      "\u001b[32m====================================================== \u001b[32m\u001b[1m6 passed\u001b[0m\u001b[32m in 11.95s\u001b[0m\u001b[32m =======================================================\u001b[0m\n"
     ]
    }
   ],
   "source": [
    "!pytest"
   ]
  },
  {
   "cell_type": "markdown",
   "metadata": {},
   "source": [
    "# Summary"
   ]
  },
  {
   "cell_type": "markdown",
   "metadata": {},
   "source": [
    "+ Create a package by using setup.py\n",
    "+ If you want to develop the package the best option is generally to use `pip install -e .`\n",
    "+ If you are in the package directory when trying to import from the package (when in ipython) funny things happen\n",
    "+ The pytest command searches recursively through the current directory for test files (python files that start with \"test_\"\n"
   ]
  },
  {
   "cell_type": "code",
   "execution_count": null,
   "metadata": {},
   "outputs": [],
   "source": []
  }
 ],
 "metadata": {
  "kernelspec": {
   "display_name": "Python 3",
   "language": "python",
   "name": "python3"
  },
  "language_info": {
   "codemirror_mode": {
    "name": "ipython",
    "version": 3
   },
   "file_extension": ".py",
   "mimetype": "text/x-python",
   "name": "python",
   "nbconvert_exporter": "python",
   "pygments_lexer": "ipython3",
   "version": "3.7.4"
  }
 },
 "nbformat": 4,
 "nbformat_minor": 4
}
