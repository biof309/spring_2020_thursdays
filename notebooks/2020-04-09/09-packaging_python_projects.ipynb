{
 "cells": [
  {
   "cell_type": "markdown",
   "metadata": {},
   "source": [
    "If in need of troubleshooting getting this notebook:"
   ]
  },
  {
   "cell_type": "markdown",
   "metadata": {},
   "source": [
    "<!--NAVIGATION-->\n",
    " [Week 4](../2020-03-05/04_python_intro.ipynb) "
   ]
  },
  {
   "cell_type": "markdown",
   "metadata": {},
   "source": [
    "# Post-mortem"
   ]
  },
  {
   "cell_type": "markdown",
   "metadata": {},
   "source": [
    "Possible reasons for failure of installation of poetry for many users last week:\n",
    "    \n",
    "+ The `curl` command line tool was not installed and so the installation command failed.\n",
    "+ The PATH was not setup properly. This seems unlikely as the installation modifies the PATH in the active terminal and modifies both the .bash_profile and the .profile files to make sure that terminals subsequently opened will have the installation directory (~/.poetry/bin) on the PATH\n",
    "+ On Windows systems it could be that ~/.bashrc is the appropriate setup script for the user and so the aforementioned path modifications did not work.\n",
    "\n",
    "Other than these reasons, I have not thought of a way in which the poetry installation could have failed. It clearly did though so we will not be using poetry today."
   ]
  },
  {
   "cell_type": "markdown",
   "metadata": {},
   "source": [
    "### Possible remnants of the poetry installation attempt\n",
    "\n",
    "+ In attempting to find an alternative installation approach I attempted to use the python packaging tool pip, and the general purpose software packaging tool conda. If you wish to try and reverse these changes you can consider executing the following commands. Be sure to read the accompanying description/warnings."
   ]
  },
  {
   "cell_type": "markdown",
   "metadata": {},
   "source": [
    "**Undoing the installation that used the curl tool**: The installation seemed to work for many people but did not work after that. You will not need poetry for the rest of the course. You can run the following cell to uninstall poetry from your system:"
   ]
  },
  {
   "cell_type": "code",
   "execution_count": null,
   "metadata": {},
   "outputs": [],
   "source": [
    "!python get-poetry.py --uninstall -y"
   ]
  },
  {
   "cell_type": "markdown",
   "metadata": {},
   "source": [
    "**Undoing the installation that used the pip**: This uninstall may not work as well as the previous case. For you to be able to uninstall poetry, you need to know what pip you used to do this. It is likely the version of pip associated with the environment you run your notebooks with (though it may not be). The following command should uninstall poetry if it was installed via pip:"
   ]
  },
  {
   "cell_type": "code",
   "execution_count": null,
   "metadata": {},
   "outputs": [],
   "source": [
    "!pip uninstall poetry"
   ]
  },
  {
   "cell_type": "markdown",
   "metadata": {},
   "source": [
    "**Resetting your base conda environment**: Assuming you have not created your own conda environments your only conda environment will be the base conda environment. Ideally we only use conda to install software into this environment. For various reasons we may not do this sometimes. As we continue to install software into conda environments they can start to get subtly broken and become difficult to install new software into them. One such example of this is that resolving dependencies takes a long time when we try to install some more software. There are [lots of ways](https://www.anaconda.com/understanding-and-improving-condas-performance/) to solve this last problem. Moving forward it is best practice to create new environments for new projects; creating an environment per project allows you to keep your dependencies concise and clean on a project basis and will prevent any dependencies issues when trying to resolve lots of dependencies. This is where conda really shines for ease and reproducibility.  \n",
    "Ultimately for our purposes there is likely no reason why we don't just reset our base environment back to the default installation to avoid any of these issues. Assuming you have nothing that you wish to hang on to in the current environment you can reset it. \n",
    "\n",
    "**Note**: This will take a long time (likely 5-20 minutes) so you probably don't want to run it during class:"
   ]
  },
  {
   "cell_type": "code",
   "execution_count": null,
   "metadata": {},
   "outputs": [],
   "source": [
    "!conda install —revision 1"
   ]
  },
  {
   "cell_type": "code",
   "execution_count": null,
   "metadata": {},
   "outputs": [],
   "source": []
  }
 ],
 "metadata": {
  "kernelspec": {
   "display_name": "Python 3",
   "language": "python",
   "name": "python3"
  },
  "language_info": {
   "codemirror_mode": {
    "name": "ipython",
    "version": 3
   },
   "file_extension": ".py",
   "mimetype": "text/x-python",
   "name": "python",
   "nbconvert_exporter": "python",
   "pygments_lexer": "ipython3",
   "version": "3.7.4"
  }
 },
 "nbformat": 4,
 "nbformat_minor": 4
}
