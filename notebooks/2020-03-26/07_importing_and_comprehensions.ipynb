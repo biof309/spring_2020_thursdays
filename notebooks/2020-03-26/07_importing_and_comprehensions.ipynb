{
 "cells": [
  {
   "cell_type": "markdown",
   "metadata": {},
   "source": [
    "If in need of troubleshooting getting this notebook:"
   ]
  },
  {
   "cell_type": "markdown",
   "metadata": {},
   "source": [
    "<!--NAVIGATION-->\n",
    " [Week 4](../2020-03-05/04_python_intro.ipynb) "
   ]
  },
  {
   "cell_type": "markdown",
   "metadata": {},
   "source": [
    "### The ipython save magic"
   ]
  },
  {
   "cell_type": "markdown",
   "metadata": {},
   "source": [
    "The ipython save magic is a very handy trick to allow us to quickly iterate on python code and save our perfected commands to a python file. This can be a powerful workflow whether you ultimately choose to use jupyter notebooks or to develop using an integrated desktop environment (IDE) like pycharm, or just the ipython terminal and a text editor.\n",
    "\n",
    "Let's have a look at the help documentation:"
   ]
  },
  {
   "cell_type": "code",
   "execution_count": 1,
   "metadata": {},
   "outputs": [
    {
     "data": {
      "text/plain": [
       "\u001b[0;31mDocstring:\u001b[0m\n",
       "Save a set of lines or a macro to a given filename.\n",
       "\n",
       "Usage:\n",
       "  %save [options] filename n1-n2 n3-n4 ... n5 .. n6 ...\n",
       "\n",
       "Options:\n",
       "\n",
       "  -r: use 'raw' input.  By default, the 'processed' history is used,\n",
       "  so that magics are loaded in their transformed version to valid\n",
       "  Python.  If this option is given, the raw input as typed as the\n",
       "  command line is used instead.\n",
       "  \n",
       "  -f: force overwrite.  If file exists, %save will prompt for overwrite\n",
       "  unless -f is given.\n",
       "\n",
       "  -a: append to the file instead of overwriting it.\n",
       "\n",
       "This function uses the same syntax as %history for input ranges,\n",
       "then saves the lines to the filename you specify.\n",
       "\n",
       "It adds a '.py' extension to the file if you don't do so yourself, and\n",
       "it asks for confirmation before overwriting existing files.\n",
       "\n",
       "If `-r` option is used, the default extension is `.ipy`.\n",
       "\u001b[0;31mFile:\u001b[0m      ~/opt/anaconda3/lib/python3.7/site-packages/IPython/core/magics/code.py\n"
      ]
     },
     "metadata": {},
     "output_type": "display_data"
    }
   ],
   "source": [
    "%save?"
   ]
  },
  {
   "cell_type": "code",
   "execution_count": 2,
   "metadata": {},
   "outputs": [
    {
     "name": "stdout",
     "output_type": "stream",
     "text": [
      "I was saved!\n"
     ]
    }
   ],
   "source": [
    "print(\"I was saved!\")"
   ]
  },
  {
   "cell_type": "markdown",
   "metadata": {},
   "source": [
    "Let's save that to a file. Note that you need to save the correct command number for this to work. Check the number in the previously executed cell"
   ]
  },
  {
   "cell_type": "code",
   "execution_count": 3,
   "metadata": {},
   "outputs": [
    {
     "name": "stdout",
     "output_type": "stream",
     "text": [
      "The following commands were written to file `sillytext.py`:\n",
      "print(\"I was saved!\")\n"
     ]
    }
   ],
   "source": [
    "%save sillytext 2"
   ]
  },
  {
   "cell_type": "markdown",
   "metadata": {},
   "source": [
    "Let's append the save command (with the append flag) itself to see what happens:"
   ]
  },
  {
   "cell_type": "code",
   "execution_count": 4,
   "metadata": {},
   "outputs": [
    {
     "name": "stdout",
     "output_type": "stream",
     "text": [
      "The following commands were written to file `sillytext.py`:\n",
      "get_ipython().run_line_magic('save', 'sillytext 2')\n"
     ]
    }
   ],
   "source": [
    "%save -a sillytext.py 3"
   ]
  },
  {
   "cell_type": "markdown",
   "metadata": {},
   "source": [
    "Success. Look how it easy it is to write our own python scripts"
   ]
  },
  {
   "cell_type": "code",
   "execution_count": 5,
   "metadata": {},
   "outputs": [
    {
     "data": {
      "text/plain": [
       "\u001b[0;31m# coding: utf-8\u001b[0m\u001b[0;34m\u001b[0m\n",
       "\u001b[0;34m\u001b[0m\u001b[0mprint\u001b[0m\u001b[0;34m(\u001b[0m\u001b[0;34m\"I was saved!\"\u001b[0m\u001b[0;34m)\u001b[0m\u001b[0;34m\u001b[0m\n",
       "\u001b[0;34m\u001b[0m\u001b[0mget_ipython\u001b[0m\u001b[0;34m(\u001b[0m\u001b[0;34m)\u001b[0m\u001b[0;34m.\u001b[0m\u001b[0mrun_line_magic\u001b[0m\u001b[0;34m(\u001b[0m\u001b[0;34m'save'\u001b[0m\u001b[0;34m,\u001b[0m \u001b[0;34m'sillytext 2'\u001b[0m\u001b[0;34m)\u001b[0m\u001b[0;34m\u001b[0m\u001b[0;34m\u001b[0m\u001b[0m\n"
      ]
     },
     "metadata": {},
     "output_type": "display_data"
    }
   ],
   "source": [
    "%pycat sillytext.py"
   ]
  },
  {
   "cell_type": "markdown",
   "metadata": {},
   "source": [
    "### Ways to run python"
   ]
  },
  {
   "cell_type": "markdown",
   "metadata": {},
   "source": [
    "+ Execute a cell in a notebook\n",
    "+ Run a python file by explicitly calling python\n",
    "+ Adding a shebang at the start of the file and executing it from the command line.\n",
    "+ Using a system call from notebook to use one of the previous two approaches\n",
    "+ Using the ipython magic `%run`\n",
    "+ Using python to importing and execute the functionality"
   ]
  },
  {
   "cell_type": "markdown",
   "metadata": {},
   "source": [
    "So run sillytext.py and see what happens..."
   ]
  },
  {
   "cell_type": "markdown",
   "metadata": {},
   "source": [
    "### Importing functionality in python"
   ]
  },
  {
   "cell_type": "markdown",
   "metadata": {},
   "source": [
    "Let's say we have a function that takes a name and returns a string to say hello. Let's put it in a text file:"
   ]
  },
  {
   "cell_type": "code",
   "execution_count": 6,
   "metadata": {},
   "outputs": [
    {
     "name": "stdout",
     "output_type": "stream",
     "text": [
      "Writing greetings.py\n"
     ]
    }
   ],
   "source": [
    "%%writefile greetings.py\n",
    "def hello(name):\n",
    "    return \"Hello \" + name + \"!!!!\""
   ]
  },
  {
   "cell_type": "markdown",
   "metadata": {},
   "source": [
    "If the file exists in our current directory then we can use python's `import` functionality so that we can execute our new function:"
   ]
  },
  {
   "cell_type": "code",
   "execution_count": 7,
   "metadata": {},
   "outputs": [],
   "source": [
    "import greetings"
   ]
  },
  {
   "cell_type": "code",
   "execution_count": 8,
   "metadata": {},
   "outputs": [
    {
     "data": {
      "text/plain": [
       "'Hello joe!!!!'"
      ]
     },
     "execution_count": 8,
     "metadata": {},
     "output_type": "execute_result"
    }
   ],
   "source": [
    "greetings.hello(\"joe\")"
   ]
  },
  {
   "cell_type": "markdown",
   "metadata": {},
   "source": [
    "### Making our own greeting\n",
    "\n",
    "Let's make our own greeting. \n",
    "\n",
    "Write a new function of your own to perform a greeting that you would like. \n",
    "\n",
    "Note: Use the ipython magic `%save` with the `-a` flag to append to our already existing file."
   ]
  },
  {
   "cell_type": "markdown",
   "metadata": {},
   "source": [
    "### Other import patterns"
   ]
  },
  {
   "cell_type": "markdown",
   "metadata": {},
   "source": [
    "We can alter the way in which we access our imported functionality. So for example instead of having to type greetings to access functions from the greetings.py we can import using the following pattern:"
   ]
  },
  {
   "cell_type": "code",
   "execution_count": 9,
   "metadata": {},
   "outputs": [],
   "source": [
    "from greetings import hello"
   ]
  },
  {
   "cell_type": "markdown",
   "metadata": {},
   "source": [
    "Importing functionality in the above manner can sometimes be convenient because it is less verbose. Another useful trick is using import aliases. So for example if we want to make it clear that all of our magical greetings are from the same file we might do something like:"
   ]
  },
  {
   "cell_type": "code",
   "execution_count": 10,
   "metadata": {},
   "outputs": [],
   "source": [
    "import greetings as gts"
   ]
  },
  {
   "cell_type": "markdown",
   "metadata": {},
   "source": [
    "Then we subsequently use it we know where the `hello` function comes from:"
   ]
  },
  {
   "cell_type": "code",
   "execution_count": 11,
   "metadata": {},
   "outputs": [
    {
     "data": {
      "text/plain": [
       "'Hello Fred!!!!'"
      ]
     },
     "execution_count": 11,
     "metadata": {},
     "output_type": "execute_result"
    }
   ],
   "source": [
    "gts.hello(\"Fred\")"
   ]
  },
  {
   "cell_type": "markdown",
   "metadata": {},
   "source": [
    "### Deeper nesting using subpackages"
   ]
  },
  {
   "cell_type": "markdown",
   "metadata": {},
   "source": [
    "If we want to group different modules together we can put them into a directory together. This helps both in grouping files together as well as making the access to all of the  functionality  more ordered from within python. Let's make our own sub-package and import from it:"
   ]
  },
  {
   "cell_type": "code",
   "execution_count": 12,
   "metadata": {},
   "outputs": [],
   "source": [
    "%mkdir my_subpackage\n",
    "%cp greetings.py my_subpackage\n",
    "%cp sillytext.py my_subpackage"
   ]
  },
  {
   "cell_type": "markdown",
   "metadata": {},
   "source": [
    "We have to explicitly import the module's here. All of the modules do not magically appear in the sub_package namespace."
   ]
  },
  {
   "cell_type": "code",
   "execution_count": 13,
   "metadata": {},
   "outputs": [],
   "source": [
    "from my_subpackage import greetings as subpack_greetings"
   ]
  },
  {
   "cell_type": "markdown",
   "metadata": {},
   "source": [
    "Now let's change tack and have a look at comprehensions in python"
   ]
  },
  {
   "cell_type": "markdown",
   "metadata": {},
   "source": [
    "<!--NAVIGATION-->\n",
    "| [Contents](../../WhirlwindTourOfPython/Index.ipynb) | [List comprehensions](../../WhirlwindTourOfPython/11-List-Comprehensions.ipynb) >"
   ]
  }
 ],
 "metadata": {
  "kernelspec": {
   "display_name": "Python 3",
   "language": "python",
   "name": "python3"
  },
  "language_info": {
   "codemirror_mode": {
    "name": "ipython",
    "version": 3
   },
   "file_extension": ".py",
   "mimetype": "text/x-python",
   "name": "python",
   "nbconvert_exporter": "python",
   "pygments_lexer": "ipython3",
   "version": "3.7.4"
  }
 },
 "nbformat": 4,
 "nbformat_minor": 4
}
