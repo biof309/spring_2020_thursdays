{
 "cells": [
  {
   "cell_type": "markdown",
   "metadata": {},
   "source": [
    "# Some points to note"
   ]
  },
  {
   "cell_type": "markdown",
   "metadata": {},
   "source": [
    "+ [Docstrings](https://www.geeksforgeeks.org/python-docstrings/)\n",
    "+ Pandas\n",
    "    + excels for tabular data (no pun intended)\n",
    "    + [cheatsheet](https://pandas.pydata.org/Pandas_Cheat_Sheet.pdf)\n",
    "+ GUIs\n",
    "    + git and python\n",
    "+ Separation of concerns\n",
    "    + \"A concern is a set of information that affects the code of a computer program\"\n",
    "    + Basically modular programming. Try and encapulate your code into distinct building blocks. It's easier to develop. It will make you happier."
   ]
  },
  {
   "cell_type": "markdown",
   "metadata": {},
   "source": [
    "# Project grading\n",
    "\n",
    "The [rubric](https://github.com/biof309/spring_2020_thursdays/blob/master/course_rubric.md#final-project)             "
   ]
  },
  {
   "cell_type": "markdown",
   "metadata": {},
   "source": [
    "# How to cope with the fact that this part of the class should be in person\n",
    "+ [Google doc](https://docs.google.com/document/d/1IlEzRiR4JrAJyW_qODvu0f1pMYPpiDremlz-CMzevJs/edit?usp=sharing)\n",
    "+ Our beloved, security-compromised Zoom!\n",
    "+ Hierarchy of goals for this first session.\n",
    "    + student big picture summary\n",
    "    + guidance on general approach\n",
    "    + technical questions\n",
    "    + debugging code"
   ]
  },
  {
   "cell_type": "markdown",
   "metadata": {},
   "source": [
    "### Zoom functionality that might be useful:\n",
    "+ set your room to not require permission for admission. If you miss the notification the poor instructors will be waiting out the cold. We'll leave a note that we tried and failed.\n",
    "+ set password for your room and embed it in link\n",
    "+ you can share your screen\n",
    "+ you can share control of your computer\n",
    "+ audio and video, for people who have not been using zoom please check this before we join you!"
   ]
  },
  {
   "cell_type": "markdown",
   "metadata": {},
   "source": [
    "### Github functionality for collaboration\n",
    "+ Learning this interface is a valuable skill in and of itself. It's specifically designed for remote collaboration like this.\n",
    "+ Use the pull request review process.\n",
    "+ Pull requests located [here](https://github.com/biof309/project_spring_2020/pulls)\n",
    "+ Keeping things on the pull request thread allows the instructors to synchronize their input to your project.\n",
    "+ Comments that are carefully thought out on the pull request thread can be a far more time efficient way of addressing your issues/concerns."
   ]
  }
 ],
 "metadata": {
  "kernelspec": {
   "display_name": "Python 3",
   "language": "python",
   "name": "python3"
  },
  "language_info": {
   "codemirror_mode": {
    "name": "ipython",
    "version": 3
   },
   "file_extension": ".py",
   "mimetype": "text/x-python",
   "name": "python",
   "nbconvert_exporter": "python",
   "pygments_lexer": "ipython3",
   "version": "3.7.4"
  }
 },
 "nbformat": 4,
 "nbformat_minor": 4
}
